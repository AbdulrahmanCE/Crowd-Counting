{
 "cells": [
  {
   "cell_type": "code",
   "execution_count": null,
   "metadata": {},
   "outputs": [],
   "source": [
    "from numba import cuda\n",
    "device = cuda.get_current_device()\n",
    "device.reset()"
   ]
  },
  {
   "cell_type": "code",
   "execution_count": null,
   "metadata": {},
   "outputs": [],
   "source": [
    "import datetime\n",
    "import glob\n",
    "import os\n",
    "import cv2\n",
    "import time\n",
    "import random\n",
    "import shutil\n",
    "import numpy as np\n",
    "import matplotlib.pyplot as plt\n",
    "from keras.models import model_from_json\n",
    "from Model import CreateModel\n",
    "%matplotlib inline\n",
    "plt.ioff()"
   ]
  },
  {
   "cell_type": "code",
   "execution_count": null,
   "metadata": {},
   "outputs": [],
   "source": [
    "train = CreateModel()\n",
    "# Settings\n",
    "net = 'CSRNet'\n",
    "dataset = 'mixed_data'\n",
    "\n",
    "test_img_paths = []\n",
    "test_dm_paths = []\n",
    "\n",
    "test_paths = 'Data/NewData/test/images'\n",
    "\n",
    "for path in glob.glob(os.path.join(test_paths, '*.jpg')):\n",
    "    test_img_paths.append(path)\n",
    "    test_dm_paths.append(path.replace('.jpg', '.h5').replace('images', 'density-maps'))\n",
    "\n",
    "test_x = train.gen_var_from_paths(test_img_paths[:], unit_len=None)\n",
    "test_y = train.gen_var_from_paths(test_dm_paths[:], stride=8, unit_len=None)\n",
    "test_x = train.norm_by_imagenet(test_x)\n",
    "print('Test data size:', test_x.shape[0], test_y.shape[0], len(test_img_paths))\n",
    "\n"
   ]
  },
  {
   "cell_type": "code",
   "execution_count": null,
   "metadata": {},
   "outputs": [],
   "source": [
    "import sys\n",
    "import pandas as pd\n",
    "from time import time, ctime\n",
    "\n",
    "# Settings of display\n",
    "dis_idx = 16 if dataset == 'mixed_data' else 0\n",
    "dis_path = test_img_paths[dis_idx]\n",
    "dis_x = test_x[dis_idx]\n",
    "dis_y = test_y[dis_idx]\n",
    "dis_lim = (5, 35) if dataset == 'mixed_data' else (40, 150)\n",
    "time_st = time()"
   ]
  },
  {
   "cell_type": "code",
   "execution_count": null,
   "metadata": {},
   "outputs": [],
   "source": [
    "dis_idx = 0\n",
    "weights_dir = 'weights_mixed_data_EXP_0/CSRNet_best.hdf5'\n",
    "\n",
    "model = model_from_json(open('models/{}.json'.format(net), 'r').read())\n",
    "model.load_weights(weights_dir)\n",
    "ct_preds = []\n",
    "ct_gts = []\n"
   ]
  },
  {
   "cell_type": "code",
   "execution_count": null,
   "metadata": {},
   "outputs": [],
   "source": [
    "for i in range(len(test_x[:])):\n",
    "#     if i % 100 == 0:\n",
    "    print('{}/{}'.format(i, len(test_x)))\n",
    "    i += 0\n",
    "    test_x_display = np.squeeze(test_x[i])\n",
    "    test_y_display = np.squeeze(test_y[i])\n",
    "    path_test_display = test_img_paths[i]\n",
    "    try:\n",
    "        pred = np.squeeze(model.predict(np.expand_dims(test_x_display, axis=0)))\n",
    "    except Exception as e:\n",
    "        print(test_img_paths[i])\n",
    "        continue\n",
    "    ct_pred = np.sum(pred)\n",
    "    ct_gt = round(np.sum(test_y_display))\n",
    "    ct_preds.append(ct_pred)\n",
    "    ct_gts.append(ct_gt)\n",
    "plt.plot(ct_preds, 'r>')\n",
    "plt.plot(ct_gts, 'b+')\n",
    "plt.legend(['ct_preds', 'ct_gts'])\n",
    "plt.title('Pred vs GT')\n",
    "plt.show()\n",
    "error = np.array(ct_preds) - np.array(ct_gts)\n",
    "plt.plot(error)\n",
    "plt.title('Pred - GT, mean = {}, MAE={}'.format(\n",
    "    str(round(np.mean(error), 3)),\n",
    "    str(round(np.mean(np.abs(error)), 3))\n",
    "))\n",
    "plt.show()\n",
    "idx_max_error = np.argsort(np.abs(error))[::-1]"
   ]
  },
  {
   "cell_type": "code",
   "execution_count": null,
   "metadata": {
    "scrolled": false
   },
   "outputs": [],
   "source": [
    "# Show the 5 worst samples\n",
    "for worst_idx in idx_max_error[:5].tolist() + [dis_idx]:\n",
    "    test_x_display = np.squeeze(test_x[worst_idx])\n",
    "    test_y_display = np.squeeze(test_y[worst_idx])\n",
    "    path_test_display = test_img_paths[worst_idx]\n",
    "    pred = np.squeeze(model.predict(np.expand_dims(test_x_display, axis=0)))\n",
    "    fg, (ax_x_ori, ax_y, ax_pred) = plt.subplots(1, 3, figsize=(20, 4))\n",
    "    ax_x_ori.imshow(cv2.cvtColor(cv2.imread(path_test_display), cv2.COLOR_BGR2RGB))\n",
    "    ax_x_ori.set_title('Original Image')\n",
    "    ax_y.imshow(test_y_display, cmap=plt.cm.jet)\n",
    "    ax_y.set_title('Ground_truth: ' + str(np.sum(test_y_display)))\n",
    "    ax_pred.imshow(pred, cmap=plt.cm.jet)\n",
    "    ax_pred.set_title('Prediction: ' + str(np.sum(pred)))\n",
    "    plt.show()\n",
    "    \n",
    "# Show the 5 best samples\n",
    "for worst_idx in idx_max_error[-5:].tolist() + [dis_idx]:\n",
    "    test_x_display = np.squeeze(test_x[worst_idx])\n",
    "    test_y_display = np.squeeze(test_y[worst_idx])\n",
    "    path_test_display = test_img_paths[worst_idx]\n",
    "    pred = np.squeeze(model.predict(np.expand_dims(test_x_display, axis=0)))\n",
    "    fg, (ax_x_ori, ax_y, ax_pred) = plt.subplots(1, 3, figsize=(20, 4))\n",
    "    ax_x_ori.imshow(cv2.cvtColor(cv2.imread(path_test_display), cv2.COLOR_BGR2RGB))\n",
    "    ax_x_ori.set_title('Original Image')\n",
    "    ax_y.imshow(test_y_display, cmap=plt.cm.jet)\n",
    "    ax_y.set_title('Ground_truth: ' + str(np.sum(test_y_display)))\n",
    "    ax_pred.imshow(pred, cmap=plt.cm.jet)\n",
    "    ax_pred.set_title('Prediction: ' + str(np.sum(pred)))\n",
    "    plt.show()"
   ]
  },
  {
   "cell_type": "code",
   "execution_count": null,
   "metadata": {},
   "outputs": [],
   "source": [
    "lossMAE, lossRMSE, lossSFN, lossMAPE, PSNR, SSIM = train.eval_loss(\n",
    "    model, test_x, test_y, quality=True\n",
    ")\n",
    "print(lossMAE, lossRMSE, lossSFN, lossMAPE, PSNR, SSIM)"
   ]
  },
  {
   "cell_type": "code",
   "execution_count": null,
   "metadata": {},
   "outputs": [],
   "source": [
    "for idx in range(len(ct_preds)):\n",
    "    test_x_display = np.squeeze(test_x[idx])\n",
    "    test_y_display = np.squeeze(test_y[idx])\n",
    "    path_test_display = test_img_paths[idx]\n",
    "    pred = np.squeeze(model.predict(np.expand_dims(test_x_display, axis=0)))\n",
    "    fg, (ax_x_ori, ax_y, ax_pred) = plt.subplots(1, 3, figsize=(20, 4))\n",
    "    ax_x_ori.imshow(cv2.cvtColor(cv2.imread(path_test_display), cv2.COLOR_BGR2RGB))\n",
    "    ax_x_ori.set_title('Original Image')\n",
    "    ax_y.imshow(test_y_display, cmap=plt.cm.jet)\n",
    "    ax_y.set_title('Ground_truth: ' + str(np.sum(test_y_display)))\n",
    "    ax_pred.imshow(pred, cmap=plt.cm.jet)\n",
    "    ax_pred.set_title('Prediction: ' + str(np.sum(pred)))\n",
    "    plt.show()"
   ]
  },
  {
   "cell_type": "code",
   "execution_count": null,
   "metadata": {},
   "outputs": [],
   "source": []
  }
 ],
 "metadata": {
  "kernelspec": {
   "display_name": "PyCharm (Crowd Counting - Model)",
   "language": "python",
   "name": "pycharm-656e5223"
  },
  "language_info": {
   "codemirror_mode": {
    "name": "ipython",
    "version": 3
   },
   "file_extension": ".py",
   "mimetype": "text/x-python",
   "name": "python",
   "nbconvert_exporter": "python",
   "pygments_lexer": "ipython3",
   "version": "3.6.12"
  }
 },
 "nbformat": 4,
 "nbformat_minor": 4
}
